{
 "cells": [
  {
   "cell_type": "markdown",
   "metadata": {
    "tags": [
     "module-dsml"
    ]
   },
   "source": [
    "(Maximum_Likelihood)=\n",
    "# Chapter 2 -- Maximum Likelihood"
   ]
  },
  {
   "cell_type": "markdown",
   "metadata": {},
   "source": [
    "## Introduction\n",
    "Maximum Likelihood is a fundamental concept in statistics and machine learning used to estimate the parameters of a model. This chapter provides a mathematical foundation for understanding maximum likelihood and its applications in evaluating the performance of predictive models. Maximum Likelihood Estimation (MLE) is a method used to determine the parameters of a statistical model that maximize the likelihood of the observed data. In other words, it finds the parameters that make the observed data most probable.\n",
    "\n",
    "Given a statistical model parameterized by $\\theta$, and a set of observed data $X = \\{ x_1, x_2, \\ldots, x_n \\}$, the likelihood function $L(\\theta)$ is defined as the probability of the observed data given the parameters $\\theta$:\n",
    "\n",
    "$$\n",
    "L(\\theta) = P(X|\\theta)\n",
    "$$\n",
    "\n",
    "\n",
    "The goal of MLE is to find the parameter $\\theta$ that maximizes this likelihood function.\n",
    "\n",
    "## Mathematical Formulation\n",
    "\n",
    "For a set of independent and identically distributed (i.i.d.) data points, the likelihood function can be expressed as the product of the individual probabilities:\n",
    "\n",
    "$$\n",
    "L(\\theta) = \\prod_{i=1}^{n} P(x_i|\\theta)\n",
    "$$\n",
    "\n",
    "\n",
    "To simplify the computation, we often work with the log-likelihood, which is the natural logarithm of the likelihood function:\n",
    "\n",
    "$$\n",
    "\\ell(\\theta) = \\log L(\\theta) = \\sum_{i=1}^{n} \\log P(x_i|\\theta)\n",
    "$$\n",
    "\n",
    "\n",
    "Maximizing the log-likelihood $\\ell(\\theta)$ is equivalent to maximizing the likelihood $L(\\theta)$."
   ]
  },
  {
   "cell_type": "markdown",
   "metadata": {},
   "source": [
    "Now, with the probabilities of predictions given by the model, we need to consider what is a good model. Although all models (good or bad) can give us a probability of certain event, yet some models will have higher accuracy in terms prediction, and that infers it to be a better model."
   ]
  },
  {
   "cell_type": "markdown",
   "metadata": {},
   "source": [
    "For example, if an event actually happened, and the model thinks it is highly likely to happen, then this model is better than the model that thinks it is unlikely to happen. Let's look at the admission example again, the first AI model coded by Jianou has the following predictions:"
   ]
  },
  {
   "cell_type": "markdown",
   "metadata": {},
   "source": [
    "|   | Student A | Student B | Student C | Student D |\n",
    "|------|------|------|------|------|\n",
    "| Prob(Accepted)  | 0.7 | 0.8 | 0.2 | 0.4 |\n",
    "| Actual Result  | Y | N | Y | N |\n",
    "| Prob(Event)  | 0.7 | 0.2 | 0.2 | 0.6 |"
   ]
  },
  {
   "cell_type": "markdown",
   "metadata": {},
   "source": [
    "The AI above predicts that the student A has 70\\% of the chances to be accepted by the university. Student A actually was accepted (Y). So again, the AI thinks that the probability of this event (student A got accepted) to happen is 70\\%. For student B, however, the AI predicts that student B has a very high chance to be accepted (80\\%), but the student got rejected (N) in reality, so in that case, the AI thinks that this event (student B got rejected) has only 20\\% of the chances to actually happen. Same for the student C and D. For an evaluation of the overall performance of the AI, we can multiply the 4 Prob(Event)."
   ]
  },
  {
   "cell_type": "markdown",
   "metadata": {},
   "source": [
    "$$\n",
    " 0.7*0.2*0.2*0.6 = 1.68\\%\n",
    "$$ (eq2_1)"
   ]
  },
  {
   "cell_type": "markdown",
   "metadata": {},
   "source": [
    "The second AI model's predictions (shown below) are far closer to the actual results."
   ]
  },
  {
   "cell_type": "markdown",
   "metadata": {},
   "source": [
    "|   | Student A | Student B | Student C | Student D |\n",
    "|------|------|------|------|------|\n",
    "| Prob(Accepted)  | 0.7 | 0.3 | 0.8 | 0.2 |\n",
    "| Actual Result  | Y | N | Y | N |\n",
    "| Prob(Event)  | 0.7 | 0.7 | 0.8 | 0.8 |"
   ]
  },
  {
   "cell_type": "markdown",
   "metadata": {},
   "source": [
    "So the Prob(Event) is high for a more accurate prediction. In the contrary, if the Jianou's AI keeps making unsatisfying predictions such as it did for student B, then the Prob(Even) would be very low. Again, we can evaluate the performance of the AI quantitatively by multiplying Prob(Event) together."
   ]
  },
  {
   "cell_type": "markdown",
   "metadata": {},
   "source": [
    "$$\n",
    " 0.7*0.7*0.8*0.8 = 31.36\\%\n",
    "$$ (eq2_2)"
   ]
  },
  {
   "cell_type": "markdown",
   "metadata": {},
   "source": [
    "This quantitative comparison between the two model reveals that the second AI, the Cambridge Analytica, is a better prediction model. The approach of choosing the larger multiplication of Prob(Event) is known as `The Maximum Likelihood'."
   ]
  },
  {
   "cell_type": "markdown",
   "metadata": {},
   "source": []
  },
  {
   "cell_type": "markdown",
   "metadata": {},
   "source": [
    "## Example code "
   ]
  },
  {
   "cell_type": "code",
   "execution_count": 2,
   "metadata": {},
   "outputs": [
    {
     "name": "stdout",
     "output_type": "stream",
     "text": [
      "Likelihood of Model 1: 0.0168 (1.68%)\n",
      "Likelihood of Model 2: 0.3136 (31.36%)\n",
      "Model 2 is better based on Maximum Likelihood.\n"
     ]
    }
   ],
   "source": [
    "\n",
    "import numpy as np\n",
    "\n",
    "# Function to calculate the likelihood of a model\n",
    "def calculate_likelihood(predictions, actual_results):\n",
    "    likelihood = 1.0\n",
    "    for prediction, actual in zip(predictions, actual_results):\n",
    "        if actual == 'Y':\n",
    "            likelihood *= prediction\n",
    "        else:\n",
    "            likelihood *= (1 - prediction)\n",
    "    return likelihood\n",
    "\n",
    "# Model predictions and actual results\n",
    "model_1_predictions = [0.7, 0.8, 0.2, 0.4]\n",
    "model_1_actual_results = ['Y', 'N', 'Y', 'N']\n",
    "\n",
    "model_2_predictions = [0.7, 0.3, 0.8, 0.2]\n",
    "model_2_actual_results = ['Y', 'N', 'Y', 'N']\n",
    "\n",
    "# Calculate likelihoods for both models\n",
    "likelihood_model_1 = calculate_likelihood(model_1_predictions, model_1_actual_results)\n",
    "likelihood_model_2 = calculate_likelihood(model_2_predictions, model_2_actual_results)\n",
    "\n",
    "# Print the likelihoods\n",
    "print(f\"Likelihood of Model 1: {likelihood_model_1:.4f} ({likelihood_model_1 * 100:.2f}%)\")\n",
    "print(f\"Likelihood of Model 2: {likelihood_model_2:.4f} ({likelihood_model_2 * 100:.2f}%)\")\n",
    "\n",
    "# Determine which model is better\n",
    "if likelihood_model_1 > likelihood_model_2:\n",
    "    print(\"Model 1 is better based on Maximum Likelihood.\")\n",
    "else:\n",
    "    print(\"Model 2 is better based on Maximum Likelihood.\")\n"
   ]
  },
  {
   "cell_type": "markdown",
   "metadata": {},
   "source": [
    "## Conclusion\n",
    "The Maximum Likelihood method provides a quantitative way to evaluate and compare predictive models. By calculating the product of the probabilities of the observed events, we can determine which model is more likely to produce accurate predictions. This approach is widely used in various fields, including statistics, machine learning, and data science, to estimate model parameters and improve predictive performance."
   ]
  },
  {
   "cell_type": "code",
   "execution_count": null,
   "metadata": {},
   "outputs": [],
   "source": []
  }
 ],
 "metadata": {
  "celltoolbar": "Tags",
  "kernelspec": {
   "display_name": "Python 3",
   "language": "python",
   "name": "python3"
  },
  "language_info": {
   "codemirror_mode": {
    "name": "ipython",
    "version": 3
   },
   "file_extension": ".py",
   "mimetype": "text/x-python",
   "name": "python",
   "nbconvert_exporter": "python",
   "pygments_lexer": "ipython3",
   "version": "3.1.undefined"
  }
 },
 "nbformat": 4,
 "nbformat_minor": 4
}
